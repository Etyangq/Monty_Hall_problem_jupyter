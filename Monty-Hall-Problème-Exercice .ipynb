{
 "cells": [
  {
   "cell_type": "code",
   "execution_count": 2,
   "id": "0f3e5da9",
   "metadata": {},
   "outputs": [],
   "source": [
    "# Pour afficher les graphiques dans la continuité du code, \n",
    "# et non pas dans une fenêtre à part:\n",
    "%matplotlib inline\n",
    "\n",
    "from random import randint, seed\n",
    "from enum import Enum\n",
    "import matplotlib.pyplot as plt"
   ]
  },
  {
   "cell_type": "code",
   "execution_count": 3,
   "id": "781cd1b8",
   "metadata": {},
   "outputs": [],
   "source": [
    "# Ici nous définissons une sous-classe de Enum, qui contiendra \n",
    "# les stratégies possibles.\n",
    "class Strategie(Enum):\n",
    "    CHANGER = 1\n",
    "    GARDER = 2"
   ]
  },
  {
   "cell_type": "code",
   "execution_count": 4,
   "id": "84f00a69",
   "metadata": {},
   "outputs": [],
   "source": [
    "# Utilise l'horloge système pour initialiser le générateur de \n",
    "# nombres pseudo-aléatoires.\n",
    "seed()\n",
    "\n",
    "def play_game(strategie):\n",
    "    '''Simule une partie du jeu Monty Hall.\n",
    "    \n",
    "    Cette fonction simule le choix de la porte par le participant, \n",
    "    l'élimination d'une mauvaise porte par le présentateur, et le \n",
    "    choix final. Elle ne retourne que le résultat de la partie, parce \n",
    "    que nous n'aurons besoin que du résultat pour effectuer nos calculs.\n",
    "    \n",
    "    Args:\n",
    "        strategie (Strategie): La stratégie du joueur\n",
    "        \n",
    "    Returns:\n",
    "        bool: Le joueur a-t-il gagné?\n",
    "    '''\n",
    "\n",
    "    portes = [0, 1, 2]\n",
    "\n",
    "    bonne_porte = randint(0,2)\n",
    "\n",
    "    # Choix du joueur\n",
    "    premier_choix = randint(0,2)\n",
    "\n",
    "    # Il nous reste deux portes\n",
    "    portes.remove(premier_choix)\n",
    "\n",
    "    # Le présentateur élimine une porte\n",
    "    if premier_choix ==bonne_porte:\n",
    "        portes.remove(portes[randint(0,1)])       \n",
    "    else:\n",
    "        portes = [bonne_porte]\n",
    "        \n",
    "        \n",
    "    deuxieme_choix = 0\n",
    "    \n",
    "    # Le deuxieme choix depend de la strategie\n",
    "    if strategie == Strategie.CHANGER:\n",
    "        deuxieme_choix = portes[0]\n",
    "        \n",
    "    elif strategie == Strategie.GARDER:\n",
    "         deuxieme_choix = premier_choix\n",
    "    else:\n",
    "        raise ValueError(\"Stratégie non reconnue!\")\n",
    "    \n",
    "    return deuxieme_choix == bonne_porte\n"
   ]
  },
  {
   "cell_type": "code",
   "execution_count": 5,
   "id": "a5a0cde2",
   "metadata": {},
   "outputs": [
    {
     "data": {
      "text/plain": [
       "True"
      ]
     },
     "execution_count": 5,
     "metadata": {},
     "output_type": "execute_result"
    }
   ],
   "source": [
    "play_game(Strategie.CHANGER)"
   ]
  },
  {
   "cell_type": "code",
   "execution_count": 6,
   "id": "ff753c50",
   "metadata": {},
   "outputs": [],
   "source": [
    "def play(strategie, nb_tours):\n",
    "    '''Simule une suite de tours du jeu.\n",
    "    \n",
    "    Cette fonction renvoie les résultats de plusieurs parties\n",
    "    du jeu Monty Hall sous forme d'une liste de gains par le \n",
    "    joueur.\n",
    "    \n",
    "    Args:\n",
    "        strategie (Strategie): La strategie du joueur\n",
    "        nb_tours (int): Nombre de tours\n",
    "        \n",
    "    Returns:\n",
    "        list: Liste des gains du joueurs à chaque partie\n",
    "    '''\n",
    "    \n",
    "    return [1 if play_game(strategie) else 0 for i in range(nb_tours)]\n",
    "              "
   ]
  },
  {
   "cell_type": "code",
   "execution_count": 7,
   "id": "2df3a538",
   "metadata": {},
   "outputs": [
    {
     "name": "stdout",
     "output_type": "stream",
     "text": [
      "En changeant de porte, le joueur a gagné 6592 sur 10000 parties.\n",
      "En gardant son choix initial, le joueur a gagné 3370 sur 10000 parties.\n"
     ]
    }
   ],
   "source": [
    "print(\"En changeant de porte, le joueur a gagné {} sur 10000 parties.\"\n",
    "     .format(sum(play(Strategie.CHANGER, 10000))))\n",
    "print(\"En gardant son choix initial, le joueur a gagné {} sur 10000 parties.\"\n",
    "     .format(sum(play(Strategie.GARDER, 10000))))"
   ]
  },
  {
   "cell_type": "code",
   "execution_count": 8,
   "id": "475a349d",
   "metadata": {},
   "outputs": [
    {
     "data": {
      "text/plain": [
       "Text(0.5, 1.0, 'Les gains pour chaque joueur')"
      ]
     },
     "execution_count": 8,
     "metadata": {},
     "output_type": "execute_result"
    },
    {
     "data": {
      "image/png": "[encoded data removed]",
      "text/plain": [
       "<Figure size 432x288 with 1 Axes>"
      ]
     },
     "metadata": {
      "needs_background": "light"
     },
     "output_type": "display_data"
    }
   ],
   "source": [
    "#Visualiser  les résultats avec Matplotlib\n",
    "plot = plt.bar([1,2],\n",
    "[sum(play(Strategie.CHANGER, 10000)), sum(play(Strategie.GARDER,10000))],\n",
    "tick_label = [\"CHANGER\", \"GARDER\"])\n",
    "plt.title('Les gains pour chaque joueur')"
   ]
  },
  {
   "cell_type": "code",
   "execution_count": 17,
   "id": "41f7f20d",
   "metadata": {},
   "outputs": [],
   "source": []
  },
  {
   "cell_type": "code",
   "execution_count": null,
   "id": "2bed24b9",
   "metadata": {},
   "outputs": [],
   "source": []
  },
  {
   "cell_type": "code",
   "execution_count": 9,
   "id": "17df34b9",
   "metadata": {},
   "outputs": [],
   "source": [
    "#exercice_monty_hall(Choix Aléatoire)\n",
    "\n",
    "# Utilise l'horloge système pour initialiser le générateur de \n",
    "# nombres pseudo-aléatoires.\n",
    "seed()\n",
    "def play_game_aléatoire( ):\n",
    "    '''Cette fonction simule le choix de la porte par le participant,\n",
    "    l'élimination d'une mauvaise porte par le présentateur, et le choix \n",
    "    final entre les restes de deux portes.\n",
    "    Elle ne retourne que le résultat de la partie.\n",
    "    \n",
    "    Returns:\n",
    "        bool: Le joueur a-t-il gagné?\n",
    "    '''\n",
    "   \n",
    "    portes = [0, 1]\n",
    "\n",
    "     \n",
    "    bonne_porte = randint(0,1)\n",
    "    \n",
    "    #le joueur choisit aléatoirement une porte entre la première et \n",
    "    #celle que le présentateur n'a pas éliminée\n",
    "    joueur_choix = portes[randint(0, 1)]\n",
    "    \n",
    "    return joueur_choix == bonne_porte"
   ]
  },
  {
   "cell_type": "code",
   "execution_count": 10,
   "id": "8dedf256",
   "metadata": {},
   "outputs": [
    {
     "data": {
      "text/plain": [
       "True"
      ]
     },
     "execution_count": 10,
     "metadata": {},
     "output_type": "execute_result"
    }
   ],
   "source": [
    "play_game_aléatoire( )"
   ]
  },
  {
   "cell_type": "code",
   "execution_count": 11,
   "id": "2da76589",
   "metadata": {},
   "outputs": [],
   "source": [
    "def play_aléatoire( nb_tours):\n",
    "    '''Simule une suite de tours du jeu\n",
    "     Cette fonction revoie les résultats de plusieur paries du jeu sous\n",
    "     forme d'une liste de gains par le joueur.\n",
    "     \n",
    "     Return: list: Liste des gains du joueurs à chaque partie\n",
    "     '''\n",
    "    return [1 if play_game_aléatoire( ) else 0 for i in range(nb_tours)]"
   ]
  },
  {
   "cell_type": "code",
   "execution_count": 12,
   "id": "d031d13f",
   "metadata": {},
   "outputs": [
    {
     "name": "stdout",
     "output_type": "stream",
     "text": [
      "le joueur a gagné 4986 sur 10000 parties quand il choisit aléstoirement une porte entre les 2.\n"
     ]
    }
   ],
   "source": [
    "print(\"le joueur a gagné {} sur 10000 parties quand il choisit aléstoirement une porte entre les 2.\"\n",
    "     .format(sum(play_aléatoire(10000))))"
   ]
  },
  {
   "cell_type": "code",
   "execution_count": 13,
   "id": "a842f555",
   "metadata": {},
   "outputs": [
    {
     "data": {
      "text/plain": [
       "Text(0.5, 1.0, 'Les gains pour chaque joueur')"
      ]
     },
     "execution_count": 13,
     "metadata": {},
     "output_type": "execute_result"
    },
    {
     "data": {
      "image/png": "[encoded data removed]",
      "text/plain": [
       "<Figure size 432x288 with 1 Axes>"
      ]
     },
     "metadata": {
      "needs_background": "light"
     },
     "output_type": "display_data"
    }
   ],
   "source": [
    "#Visualiser les résultats avec Matplotlib\n",
    "plot = plt.bar([1,2,3],\n",
    "[sum(play(Strategie.CHANGER, 10000)), sum(play(Strategie.GARDER,10000)), sum(play_aléatoire(10000))],\n",
    "tick_label = [\"CHANGER\", \"GARDER\", \"Choix aléatoire\"])\n",
    "plt.title('Les gains pour chaque joueur')"
   ]
  },
  {
   "cell_type": "code",
   "execution_count": null,
   "id": "9749683d",
   "metadata": {},
   "outputs": [],
   "source": []
  }
 ],
 "metadata": {
  "kernelspec": {
   "display_name": "Python 3",
   "language": "python",
   "name": "python3"
  },
  "language_info": {
   "codemirror_mode": {
    "name": "ipython",
    "version": 3
   },
   "file_extension": ".py",
   "mimetype": "text/x-python",
   "name": "python",
   "nbconvert_exporter": "python",
   "pygments_lexer": "ipython3",
   "version": "3.8.8"
  }
 },
 "nbformat": 4,
 "nbformat_minor": 5
}
